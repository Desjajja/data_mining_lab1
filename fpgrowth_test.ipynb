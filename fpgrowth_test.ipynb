{
 "cells": [
  {
   "cell_type": "markdown",
   "metadata": {},
   "source": [
    "## 1. 创建 FP 树的数据结构"
   ]
  },
  {
   "cell_type": "code",
   "execution_count": 5,
   "metadata": {},
   "outputs": [],
   "source": [
    "class treeNode:\n",
    "    def __init__(self, name, num, parentNode):\n",
    "        self.name = name\n",
    "        self.num = num\n",
    "        self.parent = parentNode\n",
    "        self.nodeLink = None\n",
    "        self.children = {}\n",
    "    def __repr__(self):\n",
    "        return f'{self.name} with number of {self.num}'"
   ]
  },
  {
   "cell_type": "markdown",
   "metadata": {},
   "source": [
    "## 2. 构建 FP 树"
   ]
  },
  {
   "cell_type": "code",
   "execution_count": 38,
   "metadata": {},
   "outputs": [],
   "source": [
    "def createTree(dataSet, minSup):\n",
    "    \"\"\"\n",
    "    param1 Dict[frozenset, 1:int] dataSet\n",
    "    param2 int  minSup: 最小支持度\n",
    "    \"\"\"\n",
    "    item_count = {}#统计各项出现次数\n",
    "    #第一次遍历，得到频繁一项集\n",
    "    # TODO\n",
    "    for transaction in dataSet:\n",
    "        for item in transaction:\n",
    "            # item_count: Dict[key: item, occurence: int]\n",
    "            item_count[item] = item_count.setdefault(item,0) + 1\n",
    "    headerTable={}\n",
    "    #剔除不满足最小支持度的项\n",
    "    # TODO\n",
    "    for item, sigma_item in item_count.items():\n",
    "        if sigma_item >= minSup:\n",
    "            headerTable[item] = sigma_item\n",
    "    freqItemSet = set(headerTable.keys())#满足最小支持度的频繁项集\n",
    "    if len(freqItemSet) == 0:\n",
    "        return None, None\n",
    "    for k in headerTable:\n",
    "        # 每个不同父结点的同项结点构成链表， 链表头为Null\n",
    "        # headerTable[k] = [headerTable[k], treeNode('Null', 1, None)] # element: [count, node]\n",
    "        headerTable[k] = [headerTable[k], None] # element: [count, node]\n",
    "    \n",
    "    tree_header = treeNode('Null',1,None)\n",
    "    #第二次遍历，建树\n",
    "    # TODO\n",
    "    # 为尽可能公用祖先结点，对每条transaction的item进行排序，按支持度降序排列\n",
    "    for trans in dataSet:\n",
    "        ordered_items = sorted(trans, key=lambda x: headerTable.get(x,[0])[0], reverse=True)\n",
    "        updateTree(ordered_items, tree_header, headerTable)\n",
    "        \n",
    "\n",
    "    return tree_header, headerTable\n",
    "\n",
    "def updateTree(items, node, headerTable):\n",
    "    # 先判断items[0]是否在头节点列表（频繁1-项集）\n",
    "    if items[0] in headerTable:\n",
    "        if items[0] in node.children:\n",
    "            # 判断items的第一个结点是否已作为子结点\n",
    "            node.children[items[0]].num+=1\n",
    "        else:\n",
    "            # 创建新的分支\n",
    "            node.children[items[0]] = treeNode(items[0],1,node)\n",
    "            # 更新相应频繁项集的链表，往后添加\n",
    "            # TODO\n",
    "            updateHeader(headerTable, node.children[items[0]], items[0])\n",
    "            # if items[0] in headerTable.keys():\n",
    "            #     headerTable[items[0]][0] += 1\n",
    "\n",
    "            #     if headerTable[items[0]][1] == None: \n",
    "            #         headerTable[items[0]][1] = node.children[items[0]]\n",
    "\n",
    "            # updateHeader(headerTable[items[0]][1], node.children[items[0]])\n",
    "        # 递归\n",
    "        if len(items) > 1:\n",
    "            updateTree(items[1:], node.children[items[0]], headerTable)\n",
    "\n",
    "def updateHeader(headerTable, targetNode, item):#更新headertable中的node节点形成的链表\n",
    "    # 初始为NoneType\n",
    "    node = headerTable[item][1]\n",
    "    if node == None:\n",
    "        headerTable[item][1] = targetNode\n",
    "    else:\n",
    "        while node.nodeLink != None:\n",
    "            node = node.nodeLink\n",
    "        node.nodeLink = targetNode\n"
   ]
  },
  {
   "cell_type": "code",
   "execution_count": 40,
   "metadata": {},
   "outputs": [
    {
     "data": {
      "text/plain": [
       "{'r': [3, r with number of 1],\n",
       " 'z': [5, z with number of 5],\n",
       " 'y': [3, y with number of 3],\n",
       " 'x': [4, x with number of 3],\n",
       " 't': [3, t with number of 2],\n",
       " 's': [3, s with number of 2]}"
      ]
     },
     "execution_count": 40,
     "metadata": {},
     "output_type": "execute_result"
    }
   ],
   "source": [
    "myHeaderTab"
   ]
  },
  {
   "cell_type": "code",
   "execution_count": 42,
   "metadata": {},
   "outputs": [
    {
     "name": "stdout",
     "output_type": "stream",
     "text": [
      "['z', 'r', 'h', 'p', 'j']\n",
      "['z', 'x', 'y', 't', 's', 'v', 'w', 'u']\n",
      "['z']\n",
      "['x', 'r', 's', 'o', 'n']\n",
      "['z', 'x', 'y', 'r', 't', 'q', 'p']\n",
      "['z', 'x', 'y', 't', 's', 'e', 'q', 'm']\n"
     ]
    }
   ],
   "source": [
    "for trans in initSet:\n",
    "\tordered_items = sorted(trans, key=lambda x: myHeaderTab.get(x,[0])[0], reverse=True)\n",
    "\tprint(ordered_items)"
   ]
  },
  {
   "cell_type": "code",
   "execution_count": 14,
   "metadata": {},
   "outputs": [],
   "source": [
    "def loadSimpDat():\n",
    "    simpDat = [['r', 'z', 'h', 'j', 'p'],\n",
    "               ['z', 'y', 'x', 'w', 'v', 'u', 't', 's'],\n",
    "               ['z'],\n",
    "               ['r', 'x', 'n', 'o', 's'],\n",
    "               ['y', 'r', 'x', 'z', 'q', 't', 'p'],\n",
    "               ['y', 'z', 'x', 'e', 'q', 's', 't', 'm']]\n",
    "    return simpDat\n",
    " \n",
    "def createInitSet(dataSet):\n",
    "    retDict = {}\n",
    "    for t in dataSet:\n",
    "        retDict[frozenset(t)] = 1\n",
    "    return retDict"
   ]
  },
  {
   "cell_type": "code",
   "execution_count": 15,
   "metadata": {},
   "outputs": [
    {
     "data": {
      "text/plain": [
       "{frozenset({'h', 'j', 'p', 'r', 'z'}): 1,\n",
       " frozenset({'s', 't', 'u', 'v', 'w', 'x', 'y', 'z'}): 1,\n",
       " frozenset({'z'}): 1,\n",
       " frozenset({'n', 'o', 'r', 's', 'x'}): 1,\n",
       " frozenset({'p', 'q', 'r', 't', 'x', 'y', 'z'}): 1,\n",
       " frozenset({'e', 'm', 'q', 's', 't', 'x', 'y', 'z'}): 1}"
      ]
     },
     "execution_count": 15,
     "metadata": {},
     "output_type": "execute_result"
    }
   ],
   "source": [
    "simpDat = loadSimpDat()\n",
    "initSet = createInitSet(simpDat)\n",
    "initSet"
   ]
  },
  {
   "cell_type": "code",
   "execution_count": 27,
   "metadata": {},
   "outputs": [],
   "source": [
    "myFPtree, myHeaderTab = createTree(initSet, 3)"
   ]
  },
  {
   "cell_type": "code",
   "execution_count": 28,
   "metadata": {},
   "outputs": [
    {
     "data": {
      "text/plain": [
       "{'r': [3, r with number of 1],\n",
       " 'z': [5, z with number of 5],\n",
       " 'y': [3, y with number of 3],\n",
       " 'x': [4, x with number of 3],\n",
       " 't': [3, t with number of 2],\n",
       " 's': [3, s with number of 2]}"
      ]
     },
     "execution_count": 28,
     "metadata": {},
     "output_type": "execute_result"
    }
   ],
   "source": [
    "myHeaderTab"
   ]
  },
  {
   "cell_type": "code",
   "execution_count": 29,
   "metadata": {},
   "outputs": [
    {
     "name": "stdout",
     "output_type": "stream",
     "text": [
      "r with number of 1\n",
      "r with number of 1\n"
     ]
    }
   ],
   "source": [
    "node = myHeaderTab['r'][1]\n",
    "while node.nodeLink != None:\n",
    "\tprint(node)\n",
    "\tnode = node.nodeLink"
   ]
  },
  {
   "cell_type": "markdown",
   "metadata": {},
   "source": [
    "## 3. 抽取条件模式基\n",
    "- 发现以给定元素项结尾的所有路径的函数"
   ]
  },
  {
   "cell_type": "code",
   "execution_count": 55,
   "metadata": {},
   "outputs": [],
   "source": [
    "def find_cond_pattern_base(node_name, headerTable):\n",
    "    Node = headerTable[node_name][1]\n",
    "    cond_pat_base = {}\n",
    "    # cond_pat_base = Dict[node.name: List[List[pattern]]]\n",
    "    # TODO\n",
    "    while Node != None:\n",
    "        nodePath = []\n",
    "        find_path(Node, nodePath)\n",
    "        # 排除空路径，因为存在链表头节点\n",
    "        if len(nodePath) > 0:\n",
    "            cond_pat_base[frozenset(nodePath)] = Node.num\n",
    "        Node = Node.nodeLink\n",
    "    return cond_pat_base\n",
    "\n",
    "def find_path(node, nodepath):\n",
    "    # 迭代上溯整棵树\n",
    "    if node.parent != None:\n",
    "        nodepath.append(node.name)\n",
    "        find_path(node.parent, nodepath)"
   ]
  },
  {
   "cell_type": "code",
   "execution_count": 56,
   "metadata": {},
   "outputs": [
    {
     "data": {
      "text/plain": [
       "{frozenset({'x', 'z'}): 3, frozenset({'x'}): 1}"
      ]
     },
     "execution_count": 56,
     "metadata": {},
     "output_type": "execute_result"
    }
   ],
   "source": [
    "find_cond_pattern_base('x', myHeaderTab)"
   ]
  },
  {
   "cell_type": "code",
   "execution_count": 57,
   "metadata": {},
   "outputs": [
    {
     "data": {
      "text/plain": [
       "{frozenset({'z'}): 5}"
      ]
     },
     "execution_count": 57,
     "metadata": {},
     "output_type": "execute_result"
    }
   ],
   "source": [
    "find_cond_pattern_base('z', myHeaderTab)"
   ]
  },
  {
   "cell_type": "code",
   "execution_count": 58,
   "metadata": {},
   "outputs": [
    {
     "data": {
      "text/plain": [
       "{frozenset({'r', 'z'}): 1,\n",
       " frozenset({'r', 'x'}): 1,\n",
       " frozenset({'r', 'x', 'y', 'z'}): 1}"
      ]
     },
     "execution_count": 58,
     "metadata": {},
     "output_type": "execute_result"
    }
   ],
   "source": [
    "find_cond_pattern_base('r', myHeaderTab)"
   ]
  },
  {
   "cell_type": "code",
   "execution_count": 59,
   "metadata": {},
   "outputs": [
    {
     "data": {
      "text/plain": [
       "{frozenset({'t', 'x', 'y', 'z'}): 2, frozenset({'r', 't', 'x', 'y', 'z'}): 1}"
      ]
     },
     "execution_count": 59,
     "metadata": {},
     "output_type": "execute_result"
    }
   ],
   "source": [
    "find_cond_pattern_base('t', myHeaderTab)"
   ]
  },
  {
   "cell_type": "code",
   "execution_count": 17,
   "metadata": {},
   "outputs": [
    {
     "data": {
      "text/plain": [
       "{'r': [3, Null with number of 1],\n",
       " 'z': [5, Null with number of 1],\n",
       " 'y': [3, Null with number of 1],\n",
       " 't': [3, Null with number of 1],\n",
       " 's': [3, Null with number of 1],\n",
       " 'x': [4, Null with number of 1]}"
      ]
     },
     "execution_count": 17,
     "metadata": {},
     "output_type": "execute_result"
    }
   ],
   "source": [
    "myHeaderTab"
   ]
  },
  {
   "cell_type": "markdown",
   "metadata": {},
   "source": [
    "## 4. 创建条件 FP 树"
   ]
  },
  {
   "cell_type": "code",
   "execution_count": 74,
   "metadata": {},
   "outputs": [],
   "source": [
    "def create_cond_fptree(headerTable, min_support, temp, freq_items,support_data):\n",
    "    \"\"\" \n",
    "    param3  Set[]   temp: 空集合，意义不明\n",
    "    param5  Set[]   support_data: 空集合\n",
    "    \"\"\"\n",
    "    # 最开始的频繁项集是headerTable中的各元素\n",
    "    freqs = [v[0] for v in sorted(headerTable.items(), key=lambda p:p[1][0])] # 根据频繁项的总频次排序\n",
    "    for freq in freqs: # 对每个频繁项\n",
    "        freq_set = temp.copy()\n",
    "        freq_set.add(freq)\n",
    "        freq_items.add(frozenset(freq_set))\n",
    "        #freq_items: Set[frozenset[freq 1-items]]\n",
    "        if frozenset(freq_set) not in support_data:#检查该频繁项是否在support_data中\n",
    "            support_data[frozenset(freq_set)]=headerTable[freq][0]\n",
    "        else:\n",
    "            support_data[frozenset(freq_set)]+=headerTable[freq][0]\n",
    "        # support_data: Dict[freq 1-item, sigma]\n",
    "        cond_pat_base = find_cond_pattern_base(freq, headerTable)#寻找到所有条件模式基\n",
    "        cond_pat_dataset=[] #将条件模式基字典转化为数组\n",
    "        for item in cond_pat_base:\n",
    "            item_temp=list(item - frozenset([freq]))\n",
    "            if item_temp == []: continue\n",
    "            item_temp.sort()\n",
    "            \n",
    "            \n",
    "            for i in range(cond_pat_base[item]):\n",
    "                cond_pat_dataset.append(item_temp)\n",
    "        #创建条件模式树\n",
    "        # print(f'freq: {freq}')\n",
    "        # print(f'cond_pat_base: {cond_pat_base}')\n",
    "        # print(f'cond_pat_dataset: {cond_pat_dataset}')\n",
    "        # print(f'min_support: {min_support}')\n",
    "        cond_tree, cur_headtable = createTree(cond_pat_dataset, min_support)\n",
    "        # print(f'cur_headtable: {cur_headtable}')\n",
    "        # input()\n",
    "        if cur_headtable != None:\n",
    "            create_cond_fptree(cur_headtable, min_support, freq_set, freq_items,support_data) # 递归挖掘条件FP树\n"
   ]
  },
  {
   "cell_type": "code",
   "execution_count": 71,
   "metadata": {},
   "outputs": [],
   "source": [
    "def generate_L(data_set,min_support):\n",
    "    freqItemSet=set()\n",
    "    support_data={}\n",
    "    _, headerTable=createTree(data_set,min_support)\n",
    "    #创建各频繁一项的fptree，并挖掘频繁项并保存支持度计数\n",
    "    create_cond_fptree(headerTable, min_support, set(), freqItemSet,support_data)\n",
    "    \n",
    "    max_l=0\n",
    "    for i in freqItemSet:#将频繁项根据大小保存到指定的容器L中\n",
    "        if len(i)>max_l:max_l=len(i)\n",
    "    L=[set() for _ in range(max_l)]\n",
    "    for i in freqItemSet:\n",
    "        L[len(i)-1].add(i)\n",
    "    for i in range(len(L)):\n",
    "        print(\"frequent item {}:{}\".format(i+1,len(L[i]))) \n",
    "    return L,support_data \n"
   ]
  },
  {
   "cell_type": "code",
   "execution_count": 75,
   "metadata": {},
   "outputs": [
    {
     "name": "stdout",
     "output_type": "stream",
     "text": [
      "frequent item 1:6\n",
      "frequent item 2:7\n",
      "frequent item 3:4\n",
      "frequent item 4:1\n"
     ]
    },
    {
     "data": {
      "text/plain": [
       "([{frozenset({'x'}),\n",
       "   frozenset({'t'}),\n",
       "   frozenset({'z'}),\n",
       "   frozenset({'r'}),\n",
       "   frozenset({'y'}),\n",
       "   frozenset({'s'})},\n",
       "  {frozenset({'x', 'z'}),\n",
       "   frozenset({'y', 'z'}),\n",
       "   frozenset({'t', 'x'}),\n",
       "   frozenset({'t', 'z'}),\n",
       "   frozenset({'s', 'x'}),\n",
       "   frozenset({'t', 'y'}),\n",
       "   frozenset({'x', 'y'})},\n",
       "  {frozenset({'t', 'y', 'z'}),\n",
       "   frozenset({'x', 'y', 'z'}),\n",
       "   frozenset({'t', 'x', 'z'}),\n",
       "   frozenset({'t', 'x', 'y'})},\n",
       "  {frozenset({'t', 'x', 'y', 'z'})}],\n",
       " {frozenset({'r'}): 3,\n",
       "  frozenset({'y'}): 3,\n",
       "  frozenset({'x', 'y'}): 3,\n",
       "  frozenset({'y', 'z'}): 3,\n",
       "  frozenset({'x', 'y', 'z'}): 3,\n",
       "  frozenset({'t'}): 3,\n",
       "  frozenset({'t', 'x'}): 3,\n",
       "  frozenset({'t', 'y'}): 3,\n",
       "  frozenset({'t', 'x', 'y'}): 3,\n",
       "  frozenset({'t', 'z'}): 3,\n",
       "  frozenset({'t', 'x', 'z'}): 3,\n",
       "  frozenset({'t', 'y', 'z'}): 3,\n",
       "  frozenset({'t', 'x', 'y', 'z'}): 3,\n",
       "  frozenset({'s'}): 3,\n",
       "  frozenset({'s', 'x'}): 3,\n",
       "  frozenset({'x'}): 4,\n",
       "  frozenset({'x', 'z'}): 3,\n",
       "  frozenset({'z'}): 5})"
      ]
     },
     "execution_count": 75,
     "metadata": {},
     "output_type": "execute_result"
    }
   ],
   "source": [
    "generate_L(initSet, 3)"
   ]
  }
 ],
 "metadata": {
  "interpreter": {
   "hash": "a8f61be024eba58adef938c9aa1e29e02cb3dece83a5348b1a2dafd16a070453"
  },
  "kernelspec": {
   "display_name": "Python 3.7.3 ('base')",
   "language": "python",
   "name": "python3"
  },
  "language_info": {
   "codemirror_mode": {
    "name": "ipython",
    "version": 3
   },
   "file_extension": ".py",
   "mimetype": "text/x-python",
   "name": "python",
   "nbconvert_exporter": "python",
   "pygments_lexer": "ipython3",
   "version": "3.8.5"
  },
  "orig_nbformat": 4
 },
 "nbformat": 4,
 "nbformat_minor": 2
}
