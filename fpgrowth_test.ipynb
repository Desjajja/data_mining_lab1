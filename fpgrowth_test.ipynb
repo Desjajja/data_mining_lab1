{
 "cells": [
  {
   "cell_type": "markdown",
   "metadata": {},
   "source": [
    "## 1. 创建 FP 树的数据结构"
   ]
  },
  {
   "cell_type": "code",
   "execution_count": null,
   "metadata": {},
   "outputs": [],
   "source": [
    "class treeNode:\n",
    "    def __init__(self, name, num, parentNode):\n",
    "        self.name = name\n",
    "        self.num = num\n",
    "        self.parent = parentNode\n",
    "        self.nodeLink = None\n",
    "        self.children = {}"
   ]
  },
  {
   "cell_type": "markdown",
   "metadata": {},
   "source": [
    "## 2. 构建 FP 树"
   ]
  },
  {
   "cell_type": "code",
   "execution_count": null,
   "metadata": {},
   "outputs": [],
   "source": [
    "def createTree(dataSet, minSup):\n",
    "    item_count = {}#统计各项出现次数\n",
    "    #第一次遍历，得到频繁一项集\n",
    "    # TODO\n",
    "    headerTable={}\n",
    "    #剔除不满足最小支持度的项\n",
    "    # TODO\n",
    "    \n",
    "    freqItemSet = set(headerTable.keys())#满足最小支持度的频繁项集\n",
    "    if len(freqItemSet) == 0:\n",
    "        return None, None\n",
    "    for k in headerTable:\n",
    "        headerTable[k] = [headerTable[k], None] # element: [count, node]\n",
    "    \n",
    "    tree_header = treeNode('Null',1,None)\n",
    "    #第二次遍历，建树\n",
    "    # TODO\n",
    "    return tree_header, headerTable\n",
    "\n",
    "def updateTree(items, node, headerTable):\n",
    "    if items[0] in node.children:\n",
    "        # 判断items的第一个结点是否已作为子结点\n",
    "        node.children[items[0]].num+=1\n",
    "    else:\n",
    "        # 创建新的分支\n",
    "        node.children[items[0]] = treeNode(items[0],1,node)\n",
    "        # 更新相应频繁项集的链表，往后添加\n",
    "        # TODO\n",
    "    # 递归\n",
    "    if len(items) > 1:\n",
    "        updateTree(items[1:], node.children[items[0]], headerTable)\n",
    "\n",
    "def updateHeader(node, targetNode):#更新headertable中的node节点形成的链表\n",
    "    while node.nodeLink != None:\n",
    "        node = node.nodeLink\n",
    "    node.nodeLink = targetNode\n"
   ]
  },
  {
   "cell_type": "code",
   "execution_count": null,
   "metadata": {},
   "outputs": [],
   "source": [
    "def loadSimpDat():\n",
    "    simpDat = [['r', 'z', 'h', 'j', 'p'],\n",
    "               ['z', 'y', 'x', 'w', 'v', 'u', 't', 's'],\n",
    "               ['z'],\n",
    "               ['r', 'x', 'n', 'o', 's'],\n",
    "               ['y', 'r', 'x', 'z', 'q', 't', 'p'],\n",
    "               ['y', 'z', 'x', 'e', 'q', 's', 't', 'm']]\n",
    "    return simpDat\n",
    " \n",
    "def createInitSet(dataSet):\n",
    "    retDict = {}\n",
    "    for t in dataSet:\n",
    "        retDict[frozenset(t)] = 1\n",
    "    return retDict"
   ]
  },
  {
   "cell_type": "code",
   "execution_count": null,
   "metadata": {},
   "outputs": [],
   "source": [
    "simpDat = loadSimpDat()\n",
    "initSet = createInitSet(simpDat)\n",
    "initSet"
   ]
  },
  {
   "cell_type": "code",
   "execution_count": null,
   "metadata": {},
   "outputs": [],
   "source": [
    "myFPtree, myHeaderTab = createTree(initSet, 3)"
   ]
  },
  {
   "cell_type": "markdown",
   "metadata": {},
   "source": [
    "## 3. 抽取条件模式基\n",
    "- 发现以给定元素项结尾的所有路径的函数"
   ]
  },
  {
   "cell_type": "code",
   "execution_count": null,
   "metadata": {},
   "outputs": [],
   "source": [
    "def find_cond_pattern_base(node_name, headerTable):\n",
    "    treeNode = headerTable[node_name][1]\n",
    "    cond_pat_base = {}\n",
    "    # TODO\n",
    "    return cond_pat_base\n",
    "\n",
    "def find_path(node, nodepath):\n",
    "    # 迭代上溯整棵树\n",
    "    if node.parent != None:\n",
    "        nodepath.append(node.parent.name)\n",
    "        find_path(node.parent, nodepath)"
   ]
  },
  {
   "cell_type": "code",
   "execution_count": null,
   "metadata": {},
   "outputs": [],
   "source": [
    "find_cond_pattern_base('x', myHeaderTab)"
   ]
  },
  {
   "cell_type": "code",
   "execution_count": null,
   "metadata": {},
   "outputs": [],
   "source": [
    "find_cond_pattern_base('z', myHeaderTab)"
   ]
  },
  {
   "cell_type": "code",
   "execution_count": null,
   "metadata": {},
   "outputs": [],
   "source": [
    "find_cond_pattern_base('r', myHeaderTab)"
   ]
  },
  {
   "cell_type": "code",
   "execution_count": null,
   "metadata": {},
   "outputs": [],
   "source": [
    "find_cond_pattern_base('t', myHeaderTab)"
   ]
  },
  {
   "cell_type": "markdown",
   "metadata": {},
   "source": [
    "## 4. 创建条件 FP 树"
   ]
  },
  {
   "cell_type": "code",
   "execution_count": null,
   "metadata": {},
   "outputs": [],
   "source": [
    "def create_cond_fptree(headerTable, min_support, temp, freq_items,support_data):\n",
    "    # 最开始的频繁项集是headerTable中的各元素\n",
    "    freqs = [v[0] for v in sorted(headerTable.items(), key=lambda p:p[1][0])] # 根据频繁项的总频次排序\n",
    "    for freq in freqs: # 对每个频繁项\n",
    "        freq_set = temp.copy()\n",
    "        freq_set.add(freq)\n",
    "        freq_items.add(frozenset(freq_set))\n",
    "        if frozenset(freq_set) not in support_data:#检查该频繁项是否在support_data中\n",
    "            support_data[frozenset(freq_set)]=headerTable[freq][0]\n",
    "        else:\n",
    "            support_data[frozenset(freq_set)]+=headerTable[freq][0]\n",
    "\n",
    "        cond_pat_base = find_cond_pattern_base(freq, headerTable)#寻找到所有条件模式基\n",
    "        cond_pat_dataset=[]#将条件模式基字典转化为数组\n",
    "        for item in cond_pat_base:\n",
    "            item_temp=list(item)\n",
    "            item_temp.sort()\n",
    "            for i in range(cond_pat_base[item]):\n",
    "                cond_pat_dataset.append(item_temp)\n",
    "        #创建条件模式树\n",
    "        cond_tree, cur_headtable = createTree(cond_pat_dataset, min_support)\n",
    "        if cur_headtable != None:\n",
    "            create_cond_fptree(cur_headtable, min_support, freq_set, freq_items,support_data) # 递归挖掘条件FP树\n"
   ]
  },
  {
   "cell_type": "code",
   "execution_count": null,
   "metadata": {},
   "outputs": [],
   "source": [
    "def generate_L(data_set,min_support):\n",
    "    freqItemSet=set()\n",
    "    support_data={}\n",
    "    _, headerTable=createTree(data_set,min_support)\n",
    "    #创建各频繁一项的fptree，并挖掘频繁项并保存支持度计数\n",
    "    create_cond_fptree(headerTable, min_support, set(), freqItemSet,support_data)\n",
    "    \n",
    "    max_l=0\n",
    "    for i in freqItemSet:#将频繁项根据大小保存到指定的容器L中\n",
    "        if len(i)>max_l:max_l=len(i)\n",
    "    L=[set() for _ in range(max_l)]\n",
    "    for i in freqItemSet:\n",
    "        L[len(i)-1].add(i)\n",
    "    for i in range(len(L)):\n",
    "        print(\"frequent item {}:{}\".format(i+1,len(L[i]))) \n",
    "    return L,support_data \n"
   ]
  },
  {
   "cell_type": "code",
   "execution_count": null,
   "metadata": {},
   "outputs": [],
   "source": [
    "generate_L(initSet, 3)"
   ]
  }
 ],
 "metadata": {
  "interpreter": {
   "hash": "a8f61be024eba58adef938c9aa1e29e02cb3dece83a5348b1a2dafd16a070453"
  },
  "kernelspec": {
   "display_name": "Python 3.7.3 ('base')",
   "language": "python",
   "name": "python3"
  },
  "language_info": {
   "codemirror_mode": {
    "name": "ipython",
    "version": 3
   },
   "file_extension": ".py",
   "mimetype": "text/x-python",
   "name": "python",
   "nbconvert_exporter": "python",
   "pygments_lexer": "ipython3",
   "version": "3.7.3"
  },
  "orig_nbformat": 4
 },
 "nbformat": 4,
 "nbformat_minor": 2
}
