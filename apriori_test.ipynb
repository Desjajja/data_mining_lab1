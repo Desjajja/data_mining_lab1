{
 "cells": [
  {
   "cell_type": "markdown",
   "metadata": {},
   "source": [
    "## 1. 生成候选项集\n",
    "- 构建大小为1的所有候选项集的集合C1。\n",
    "- 扫描数据集，判断是否满足最小支持度的要求，构成集合 L1"
   ]
  },
  {
   "cell_type": "code",
   "execution_count": 5,
   "metadata": {},
   "outputs": [],
   "source": [
    "def loadDataSet():\n",
    "    return [[1,3,4], [2,3,5], [1,2,3,5],[2,5]]\n",
    "\n",
    "def createC1(dataSet):\n",
    "    C1 = set()\n",
    "    for transaction in dataSet:\n",
    "        for item in transaction:\n",
    "            # 集合内元素应为可哈希类型（hashable type）即 不可变类型\n",
    "            C1.add(frozenset([item]))\n",
    "    return C1"
   ]
  },
  {
   "cell_type": "code",
   "execution_count": 6,
   "metadata": {},
   "outputs": [],
   "source": [
    "# ItemSet = frozenset[int] 项集类型注释\n",
    "def generate_lk_by_ck(D, Ck, minSupport):\n",
    "    \"\"\"\n",
    "    param1 List[List[int]]  D: 数据集（二维列表嵌套），即Transaction的合集\n",
    "    param2 Set[ItemSet]          Ck: k-频繁项集的候选集合\n",
    "    param3 float            minSupport: 最小支持度\n",
    "    \n",
    "    return1: Set[ItemSet]            Lk: 经过支持度测试的k-频繁项集的集合\n",
    "    return2: Dict[Lk, float]    supportData: 保存各频繁项的支持度 \n",
    "    \"\"\"\n",
    "    Lk = set()\n",
    "    supportData = {} #用于保存各频繁项的支持度\n",
    "    N = len(D) # 总事务数，作为支持度计算的分母\n",
    "    # TODO\n",
    "    # 遍历 Ck, 判断是否出现在各个transaction中\n",
    "    for ck in Ck:\n",
    "        # 记录当前候选组合的支持度\n",
    "        nk = 0\n",
    "        for trans in D:\n",
    "            if ck.issubset(trans): nk += 1\n",
    "        # 计算当前项支持度\n",
    "        supportk = nk / N\n",
    "        # 大于最小支持度，选入频繁项\n",
    "        if supportk >= minSupport:\n",
    "            Lk.add(ck)\n",
    "            supportData[ck] = supportk\n",
    "\n",
    "    return Lk, supportData\n",
    "            "
   ]
  },
  {
   "cell_type": "code",
   "execution_count": 7,
   "metadata": {},
   "outputs": [
    {
     "data": {
      "text/plain": [
       "[[1, 3, 4], [2, 3, 5], [1, 2, 3, 5], [2, 5]]"
      ]
     },
     "execution_count": 7,
     "metadata": {},
     "output_type": "execute_result"
    }
   ],
   "source": [
    "dataSet = loadDataSet()\n",
    "dataSet"
   ]
  },
  {
   "cell_type": "code",
   "execution_count": 8,
   "metadata": {},
   "outputs": [
    {
     "data": {
      "text/plain": [
       "{frozenset({2}),\n",
       " frozenset({3}),\n",
       " frozenset({1}),\n",
       " frozenset({5}),\n",
       " frozenset({4})}"
      ]
     },
     "execution_count": 8,
     "metadata": {},
     "output_type": "execute_result"
    }
   ],
   "source": [
    "C1 = createC1(dataSet)\n",
    "C1"
   ]
  },
  {
   "cell_type": "code",
   "execution_count": 9,
   "metadata": {},
   "outputs": [],
   "source": [
    "L1, supportData = generate_lk_by_ck(dataSet, C1, 0.5)"
   ]
  },
  {
   "cell_type": "markdown",
   "metadata": {},
   "source": [
    "## 2. 生成所有频繁项集\n",
    "- 从 Lk-1 生成 Ck\n",
    "- 检查候选项子集是否都在频繁 Lk-1 中"
   ]
  },
  {
   "cell_type": "code",
   "execution_count": 12,
   "metadata": {},
   "outputs": [],
   "source": [
    "from itertools import chain, product, permutations\n",
    "\n",
    "# def createCk(Lk_1, k):\n",
    "def createCk(Lk_1, k, L1):#通过频繁项集Lk-1创建Ck候选项集\n",
    "    \"\"\"\n",
    "    Fk-1xF1法生成候选集， 我不得不增加一个传入L1的位置参数\n",
    "    param1  Set{k-1-ItemSet}   Lk_1: 频繁{k-1}-项集\n",
    "    param2  int            k   : 指示k-项集长度的整型\n",
    "    *param3 Set[ItemSet]   L1  : 频繁1-项集\n",
    "    \n",
    "    return  Set[k-ItemSet]   Ck: 候选k-项集\n",
    "    \"\"\"\n",
    "    Ck = set()\n",
    "    # TODO\n",
    "    prod = product(Lk_1, L1) # 可以遍历\n",
    "    # 笛卡尔积 p ->（Lk-1, L1)\n",
    "    for p in prod:\n",
    "            # 转为形式 frozenset(*Lk-1, *L1), red for redundant\n",
    "            # why doesn't normal set work\n",
    "            red_set = frozenset(chain(*p))\n",
    "            # 仅当长度为k，结果可行\n",
    "            if len(red_set) == k: Ck.add(red_set) \n",
    "    return Ck\n",
    "\n",
    "def has_infrequent_subset(Ck, Lk_1):#检查候选项Ck的子集是否都在Lk-1中\n",
    "    # TODO\n",
    "    for p in permutations(Ck, len(Lk_1)):\n",
    "        if set(p) in Lk_1 == False: return False\n",
    "    return True\n",
    "        "
   ]
  },
  {
   "cell_type": "code",
   "execution_count": 3,
   "metadata": {},
   "outputs": [],
   "source": [
    "# 生成所有频繁项集\n",
    "def generate_L(dataSet, minSupport=0.5):\n",
    "    C1= createC1(dataSet)\n",
    "    L1, supportData = generate_lk_by_ck(dataSet, C1, minSupport)\n",
    "    L = [L1]\n",
    "    k = 2\n",
    "    Lk_1 = L1.copy()\n",
    "    while (True):\n",
    "        Ck = createCk(Lk_1, k, L1)\n",
    "        # Ck = createCk(Lk_1, k)\n",
    "        Lk, supK = generate_lk_by_ck(dataSet, Ck, minSupport)\n",
    "        supportData.update(supK)\n",
    "        if len(Lk)==0:\n",
    "            break\n",
    "        Lk_1 = Lk.copy()\n",
    "        L.append(Lk_1)\n",
    "        k += 1\n",
    "    return L, supportData"
   ]
  },
  {
   "cell_type": "code",
   "execution_count": 13,
   "metadata": {},
   "outputs": [],
   "source": [
    "L, supportData = generate_L(dataSet, minSupport=0.5)"
   ]
  },
  {
   "cell_type": "code",
   "execution_count": 14,
   "metadata": {},
   "outputs": [
    {
     "data": {
      "text/plain": [
       "{frozenset({2, 3}),\n",
       " frozenset({1, 2}),\n",
       " frozenset({2, 5}),\n",
       " frozenset({1, 5}),\n",
       " frozenset({3, 5}),\n",
       " frozenset({1, 3})}"
      ]
     },
     "execution_count": 14,
     "metadata": {},
     "output_type": "execute_result"
    }
   ],
   "source": [
    "createCk(L[0], 2, L1)\n",
    "# createCk(L[0], 2)"
   ]
  },
  {
   "cell_type": "markdown",
   "metadata": {},
   "source": [
    "## 3. 从频繁项集中挖掘关联规则\n",
    "- 计算规则置信度\n",
    "- 如果某个规则不满足最小置信度要求，那么该规则的所有子集也不会满足\n",
    "\n",
    "if $X\\rightarrow Y-X$, $X'\\rightarrow Y-X'$, $X'\\sub X$"
   ]
  },
  {
   "cell_type": "code",
   "execution_count": 103,
   "metadata": {},
   "outputs": [],
   "source": [
    "def generateRules(dataset, minSupport, minConf=0.7):\n",
    "    L, supportData=generate_L(dataset,minSupport)\n",
    "    big_rule = []\n",
    "    # 2-项集到k-项集\n",
    "    for i in range(1, len(L)):\n",
    "        # L[i]: Set[k-ItemSets]\n",
    "        for freqSet in L[i]:\n",
    "            # H1 = List[1-ItemSet,]\n",
    "            H1 = [frozenset([item]) for item in freqSet]\n",
    "            if i > 1:\n",
    "                rulesFromConseq(freqSet, H1, supportData, big_rule, minConf, L)\n",
    "            # else:\n",
    "                # calcConf(freqSet, H1, supportData, big_rule, minConf)\n",
    "            # 原始版本逻辑如上，会导致{3+}-项集没有后项为1的规则\n",
    "            calcConf(freqSet, H1, supportData, big_rule, minConf)\n",
    "    return big_rule\n",
    "\n",
    "# 新候选规则\n",
    "def rulesFromConseq(freqSet, H, supportData, big_rule, minConf, L):\n",
    "    m = len(H[0])\n",
    "    # freqSet: k-ItemSet\n",
    "    # len(freqSet) == k, k=1,2,..., max-ItemSet\n",
    "    if (len(freqSet) > m+1):\n",
    "        Hmp1 = createCk(H, m+1, L[0])\n",
    "        _Hmp1 = [h for h in Hmp1 if h.issubset(freqSet)]\n",
    "        Hmp1 = calcConf(freqSet, _Hmp1, supportData, big_rule, minConf)\n",
    "        if (len(Hmp1) > 1):\n",
    "            # 递归调用\n",
    "            rulesFromConseq(freqSet, Hmp1, supportData, big_rule, minConf, L)\n",
    "\n",
    "def calcConf(freqSet, H, supportData, big_rule, minConf):\n",
    "    prunedH = []\n",
    "    for conseq in H:\n",
    "        conf = supportData[freqSet]/supportData[freqSet-conseq]\n",
    "        if conf >= minConf:\n",
    "            big_rule.append((freqSet - conseq, conseq, conf))\n",
    "            prunedH.append(conseq)\n",
    "    return prunedH"
   ]
  },
  {
   "cell_type": "markdown",
   "metadata": {},
   "source": [
    "蛮力方式，遍历所有子集"
   ]
  },
  {
   "cell_type": "code",
   "execution_count": 17,
   "metadata": {},
   "outputs": [],
   "source": [
    "def generate_R(dataset, minSupport, minConf):\n",
    "    L, supportData=generate_L(dataset,minSupport)\n",
    "    rule_list = []#保存满足置信度的规则\n",
    "    sub_set_list = []#该数组保存检查过的频繁项\n",
    "    for i in range(0, len(L)):\n",
    "        for freq_set in L[i]:\n",
    "            for sub_set in sub_set_list:#sub_set_list中保存的是L1到Lk-1\n",
    "                if sub_set.issubset(freq_set):#检查sub_set是否是freq_set的子集\n",
    "                    #检查置信度是否满足要求，是则添加到规则\n",
    "                    conf = supportData[freq_set] / supportData[freq_set - sub_set]\n",
    "                    big_rule = (freq_set - sub_set, sub_set, conf)\n",
    "                    if conf >= minConf and big_rule not in rule_list:\n",
    "                        rule_list.append(big_rule)\n",
    "            sub_set_list.append(freq_set)\n",
    "    rule_list = sorted(rule_list,key=lambda x:(x[2]),reverse=True)\n",
    "    return rule_list"
   ]
  },
  {
   "cell_type": "code",
   "execution_count": 97,
   "metadata": {},
   "outputs": [],
   "source": [
    "# brutal 结果\n",
    "rules = generate_R(dataSet, 0.5, 0.5)"
   ]
  },
  {
   "cell_type": "code",
   "execution_count": 98,
   "metadata": {},
   "outputs": [
    {
     "data": {
      "text/plain": [
       "[(frozenset({5}), frozenset({2}), 1.0),\n",
       " (frozenset({2}), frozenset({5}), 1.0),\n",
       " (frozenset({1}), frozenset({3}), 1.0),\n",
       " (frozenset({3, 5}), frozenset({2}), 1.0),\n",
       " (frozenset({2, 3}), frozenset({5}), 1.0),\n",
       " (frozenset({3}), frozenset({1}), 0.6666666666666666),\n",
       " (frozenset({2}), frozenset({3}), 0.6666666666666666),\n",
       " (frozenset({3}), frozenset({2}), 0.6666666666666666),\n",
       " (frozenset({5}), frozenset({3}), 0.6666666666666666),\n",
       " (frozenset({3}), frozenset({5}), 0.6666666666666666),\n",
       " (frozenset({2, 5}), frozenset({3}), 0.6666666666666666),\n",
       " (frozenset({3}), frozenset({2, 5}), 0.6666666666666666),\n",
       " (frozenset({5}), frozenset({2, 3}), 0.6666666666666666),\n",
       " (frozenset({2}), frozenset({3, 5}), 0.6666666666666666)]"
      ]
     },
     "execution_count": 98,
     "metadata": {},
     "output_type": "execute_result"
    }
   ],
   "source": [
    "rules"
   ]
  },
  {
   "cell_type": "code",
   "execution_count": 104,
   "metadata": {},
   "outputs": [],
   "source": [
    "# 置信度剪枝结果\n",
    "rules1 = generateRules(dataSet, 0.5, 0.5)"
   ]
  },
  {
   "cell_type": "code",
   "execution_count": 105,
   "metadata": {},
   "outputs": [
    {
     "data": {
      "text/plain": [
       "[(frozenset({5}), frozenset({2}), 1.0),\n",
       " (frozenset({2}), frozenset({5}), 1.0),\n",
       " (frozenset({3}), frozenset({1}), 0.6666666666666666),\n",
       " (frozenset({1}), frozenset({3}), 1.0),\n",
       " (frozenset({3}), frozenset({2}), 0.6666666666666666),\n",
       " (frozenset({2}), frozenset({3}), 0.6666666666666666),\n",
       " (frozenset({5}), frozenset({3}), 0.6666666666666666),\n",
       " (frozenset({3}), frozenset({5}), 0.6666666666666666),\n",
       " (frozenset({5}), frozenset({2, 3}), 0.6666666666666666),\n",
       " (frozenset({3}), frozenset({2, 5}), 0.6666666666666666),\n",
       " (frozenset({2}), frozenset({3, 5}), 0.6666666666666666),\n",
       " (frozenset({3, 5}), frozenset({2}), 1.0),\n",
       " (frozenset({2, 5}), frozenset({3}), 0.6666666666666666),\n",
       " (frozenset({2, 3}), frozenset({5}), 1.0)]"
      ]
     },
     "execution_count": 105,
     "metadata": {},
     "output_type": "execute_result"
    }
   ],
   "source": [
    "rules1"
   ]
  },
  {
   "cell_type": "code",
   "execution_count": 108,
   "metadata": {},
   "outputs": [
    {
     "data": {
      "text/plain": [
       "True"
      ]
     },
     "execution_count": 108,
     "metadata": {},
     "output_type": "execute_result"
    }
   ],
   "source": [
    "# 二者结果相同\n",
    "set(rules) == set(rules1)"
   ]
  }
 ],
 "metadata": {
  "interpreter": {
   "hash": "a8f61be024eba58adef938c9aa1e29e02cb3dece83a5348b1a2dafd16a070453"
  },
  "kernelspec": {
   "display_name": "Python 3",
   "language": "python",
   "name": "python3"
  },
  "language_info": {
   "codemirror_mode": {
    "name": "ipython",
    "version": 3
   },
   "file_extension": ".py",
   "mimetype": "text/x-python",
   "name": "python",
   "nbconvert_exporter": "python",
   "pygments_lexer": "ipython3",
   "version": "3.8.5"
  },
  "orig_nbformat": 4
 },
 "nbformat": 4,
 "nbformat_minor": 2
}
